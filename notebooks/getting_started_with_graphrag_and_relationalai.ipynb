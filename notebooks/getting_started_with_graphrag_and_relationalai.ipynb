{
 "cells": [
  {
   "cell_type": "markdown",
   "id": "f4146a83-0890-47db-a6e6-3b5f7c7e0e48",
   "metadata": {},
   "source": [
    "![RelationalAI - Getting started with GraphRAG](assets/header.png)"
   ]
  },
  {
   "cell_type": "code",
   "execution_count": 1,
   "id": "15a53e4c-6415-4482-b122-e54f6218fa4b",
   "metadata": {},
   "outputs": [],
   "source": [
    "import os\n",
    "import re\n",
    "import sys\n",
    "import warnings\n",
    "\n",
    "import pandas as pd\n",
    "import relationalai as rai\n",
    "from relationalai.clients.snowflake import Session, Snowflake\n",
    "from relationalai.std import aggregates, alias\n",
    "from relationalai.std.graphs import Graph\n",
    "\n",
    "# Solution packages.\n",
    "sys.path.append(\"../.\")\n",
    "\n",
    "from src.graphrag.rai import *\n",
    "from src.graphrag.snowflake import *\n",
    "from src.graphrag.util import *"
   ]
  },
  {
   "cell_type": "code",
   "execution_count": 2,
   "id": "c4be1913-9c07-4084-89d0-bced21397ab9",
   "metadata": {},
   "outputs": [],
   "source": [
    "logging.getLogger().setLevel(logging.ERROR)"
   ]
  },
  {
   "cell_type": "markdown",
   "id": "3a5bfc90-7ff9-4a5c-8566-547d0e5c0ae0",
   "metadata": {},
   "source": [
    "## Snowflake session setup"
   ]
  },
  {
   "cell_type": "code",
   "execution_count": 3,
   "id": "94154941-21e5-4b9a-b59a-06702d5b922d",
   "metadata": {},
   "outputs": [],
   "source": [
    "session = Session.builder.configs({\n",
    "    \"user\": \"danieldu\", \n",
    "    \"password\": \"Catus081022@\", \n",
    "    \"account\": \"bgzjzyx-gpb92056\", \n",
    "    \"database\": \"graph_rag\", \n",
    "    \"schema\": \"graph_rag\", \n",
    "    \"role\": \"accountadmin\", \n",
    "    \"warehouse=\": \"graph_rag\"\n",
    "}).create()"
   ]
  },
  {
   "cell_type": "code",
   "execution_count": 4,
   "id": "4901351c-3be7-47b2-988c-74a4e4634ab2",
   "metadata": {},
   "outputs": [
    {
     "name": "stderr",
     "output_type": "stream",
     "text": [
      "ERROR:snowflake.snowpark._internal.server_connection:Failed to execute query [queryID: 01b8f9eb-0004-53d7-0002-d443001d3f7a] use database graph_rag\n",
      "002043 (02000): SQL compilation error:\n",
      "Object does not exist, or operation cannot be performed.\n"
     ]
    },
    {
     "ename": "ProgrammingError",
     "evalue": "002043 (02000): SQL compilation error:\nObject does not exist, or operation cannot be performed.",
     "output_type": "error",
     "traceback": [
      "\u001b[0;31m---------------------------------------------------------------------------\u001b[0m",
      "\u001b[0;31mProgrammingError\u001b[0m                          Traceback (most recent call last)",
      "Input \u001b[0;32mIn [4]\u001b[0m, in \u001b[0;36m<cell line: 2>\u001b[0;34m()\u001b[0m\n\u001b[1;32m      1\u001b[0m session\u001b[38;5;241m.\u001b[39muse_role(\u001b[38;5;124m\"\u001b[39m\u001b[38;5;124maccountadmin\u001b[39m\u001b[38;5;124m\"\u001b[39m)\n\u001b[0;32m----> 2\u001b[0m \u001b[43msession\u001b[49m\u001b[38;5;241;43m.\u001b[39;49m\u001b[43muse_database\u001b[49m\u001b[43m(\u001b[49m\u001b[38;5;124;43m\"\u001b[39;49m\u001b[38;5;124;43mgraph_rag\u001b[39;49m\u001b[38;5;124;43m\"\u001b[39;49m\u001b[43m)\u001b[49m\n\u001b[1;32m      3\u001b[0m session\u001b[38;5;241m.\u001b[39muse_schema(\u001b[38;5;124m\"\u001b[39m\u001b[38;5;124mgraph_rag\u001b[39m\u001b[38;5;124m\"\u001b[39m)\n\u001b[1;32m      4\u001b[0m session\u001b[38;5;241m.\u001b[39muse_warehouse(\u001b[38;5;124m\"\u001b[39m\u001b[38;5;124mgraph_rag\u001b[39m\u001b[38;5;124m\"\u001b[39m)\n",
      "File \u001b[0;32m~/anaconda3/envs/snowFlake/lib/python3.10/site-packages/snowflake/snowpark/session.py:3205\u001b[0m, in \u001b[0;36mSession.use_database\u001b[0;34m(self, database)\u001b[0m\n\u001b[1;32m   3199\u001b[0m \u001b[38;5;28;01mdef\u001b[39;00m \u001b[38;5;21muse_database\u001b[39m(\u001b[38;5;28mself\u001b[39m, database: \u001b[38;5;28mstr\u001b[39m) \u001b[38;5;241m-\u001b[39m\u001b[38;5;241m>\u001b[39m \u001b[38;5;28;01mNone\u001b[39;00m:\n\u001b[1;32m   3200\u001b[0m \u001b[38;5;250m    \u001b[39m\u001b[38;5;124;03m\"\"\"Specifies the active/current database for the session.\u001b[39;00m\n\u001b[1;32m   3201\u001b[0m \n\u001b[1;32m   3202\u001b[0m \u001b[38;5;124;03m    Args:\u001b[39;00m\n\u001b[1;32m   3203\u001b[0m \u001b[38;5;124;03m        database: The database name.\u001b[39;00m\n\u001b[1;32m   3204\u001b[0m \u001b[38;5;124;03m    \"\"\"\u001b[39;00m\n\u001b[0;32m-> 3205\u001b[0m     \u001b[38;5;28;43mself\u001b[39;49m\u001b[38;5;241;43m.\u001b[39;49m\u001b[43m_use_object\u001b[49m\u001b[43m(\u001b[49m\u001b[43mdatabase\u001b[49m\u001b[43m,\u001b[49m\u001b[43m \u001b[49m\u001b[38;5;124;43m\"\u001b[39;49m\u001b[38;5;124;43mdatabase\u001b[39;49m\u001b[38;5;124;43m\"\u001b[39;49m\u001b[43m)\u001b[49m\n",
      "File \u001b[0;32m~/anaconda3/envs/snowFlake/lib/python3.10/site-packages/snowflake/snowpark/session.py:3266\u001b[0m, in \u001b[0;36mSession._use_object\u001b[0;34m(self, object_name, object_type)\u001b[0m\n\u001b[1;32m   3264\u001b[0m             \u001b[38;5;28mself\u001b[39m\u001b[38;5;241m.\u001b[39m_run_query(query)\n\u001b[1;32m   3265\u001b[0m     \u001b[38;5;28;01melse\u001b[39;00m:\n\u001b[0;32m-> 3266\u001b[0m         \u001b[38;5;28;43mself\u001b[39;49m\u001b[38;5;241;43m.\u001b[39;49m\u001b[43m_run_query\u001b[49m\u001b[43m(\u001b[49m\u001b[43mquery\u001b[49m\u001b[43m)\u001b[49m\n\u001b[1;32m   3267\u001b[0m \u001b[38;5;28;01melse\u001b[39;00m:\n\u001b[1;32m   3268\u001b[0m     \u001b[38;5;28;01mraise\u001b[39;00m \u001b[38;5;167;01mValueError\u001b[39;00m(\u001b[38;5;124mf\u001b[39m\u001b[38;5;124m\"\u001b[39m\u001b[38;5;124m'\u001b[39m\u001b[38;5;132;01m{\u001b[39;00mobject_type\u001b[38;5;132;01m}\u001b[39;00m\u001b[38;5;124m'\u001b[39m\u001b[38;5;124m must not be empty or None.\u001b[39m\u001b[38;5;124m\"\u001b[39m)\n",
      "File \u001b[0;32m~/anaconda3/envs/snowFlake/lib/python3.10/site-packages/snowflake/snowpark/session.py:2430\u001b[0m, in \u001b[0;36mSession._run_query\u001b[0;34m(self, query, is_ddl_on_temp_object, log_on_exception, statement_params)\u001b[0m\n\u001b[1;32m   2423\u001b[0m \u001b[38;5;28;01mdef\u001b[39;00m \u001b[38;5;21m_run_query\u001b[39m(\n\u001b[1;32m   2424\u001b[0m     \u001b[38;5;28mself\u001b[39m,\n\u001b[1;32m   2425\u001b[0m     query: \u001b[38;5;28mstr\u001b[39m,\n\u001b[0;32m   (...)\u001b[0m\n\u001b[1;32m   2428\u001b[0m     statement_params: Optional[Dict[\u001b[38;5;28mstr\u001b[39m, \u001b[38;5;28mstr\u001b[39m]] \u001b[38;5;241m=\u001b[39m \u001b[38;5;28;01mNone\u001b[39;00m,\n\u001b[1;32m   2429\u001b[0m ) \u001b[38;5;241m-\u001b[39m\u001b[38;5;241m>\u001b[39m List[Any]:\n\u001b[0;32m-> 2430\u001b[0m     \u001b[38;5;28;01mreturn\u001b[39;00m \u001b[38;5;28;43mself\u001b[39;49m\u001b[38;5;241;43m.\u001b[39;49m\u001b[43m_conn\u001b[49m\u001b[38;5;241;43m.\u001b[39;49m\u001b[43mrun_query\u001b[49m\u001b[43m(\u001b[49m\n\u001b[1;32m   2431\u001b[0m \u001b[43m        \u001b[49m\u001b[43mquery\u001b[49m\u001b[43m,\u001b[49m\n\u001b[1;32m   2432\u001b[0m \u001b[43m        \u001b[49m\u001b[43mis_ddl_on_temp_object\u001b[49m\u001b[38;5;241;43m=\u001b[39;49m\u001b[43mis_ddl_on_temp_object\u001b[49m\u001b[43m,\u001b[49m\n\u001b[1;32m   2433\u001b[0m \u001b[43m        \u001b[49m\u001b[43mlog_on_exception\u001b[49m\u001b[38;5;241;43m=\u001b[39;49m\u001b[43mlog_on_exception\u001b[49m\u001b[43m,\u001b[49m\n\u001b[1;32m   2434\u001b[0m \u001b[43m        \u001b[49m\u001b[43m_statement_params\u001b[49m\u001b[38;5;241;43m=\u001b[39;49m\u001b[43mstatement_params\u001b[49m\u001b[43m,\u001b[49m\n\u001b[1;32m   2435\u001b[0m \u001b[43m    \u001b[49m\u001b[43m)\u001b[49m[\u001b[38;5;124m\"\u001b[39m\u001b[38;5;124mdata\u001b[39m\u001b[38;5;124m\"\u001b[39m]\n",
      "File \u001b[0;32m~/anaconda3/envs/snowFlake/lib/python3.10/site-packages/snowflake/snowpark/_internal/server_connection.py:129\u001b[0m, in \u001b[0;36mServerConnection._Decorator.wrap_exception.<locals>.wrap\u001b[0;34m(*args, **kwargs)\u001b[0m\n\u001b[1;32m    125\u001b[0m     \u001b[38;5;28;01mraise\u001b[39;00m SnowparkClientExceptionMessages\u001b[38;5;241m.\u001b[39mSERVER_SESSION_EXPIRED(\n\u001b[1;32m    126\u001b[0m         ex\u001b[38;5;241m.\u001b[39mcause\n\u001b[1;32m    127\u001b[0m     )\n\u001b[1;32m    128\u001b[0m \u001b[38;5;28;01mexcept\u001b[39;00m \u001b[38;5;167;01mException\u001b[39;00m \u001b[38;5;28;01mas\u001b[39;00m ex:\n\u001b[0;32m--> 129\u001b[0m     \u001b[38;5;28;01mraise\u001b[39;00m ex\n",
      "File \u001b[0;32m~/anaconda3/envs/snowFlake/lib/python3.10/site-packages/snowflake/snowpark/_internal/server_connection.py:123\u001b[0m, in \u001b[0;36mServerConnection._Decorator.wrap_exception.<locals>.wrap\u001b[0;34m(*args, **kwargs)\u001b[0m\n\u001b[1;32m    121\u001b[0m     \u001b[38;5;28;01mraise\u001b[39;00m SnowparkClientExceptionMessages\u001b[38;5;241m.\u001b[39mSERVER_SESSION_HAS_BEEN_CLOSED()\n\u001b[1;32m    122\u001b[0m \u001b[38;5;28;01mtry\u001b[39;00m:\n\u001b[0;32m--> 123\u001b[0m     \u001b[38;5;28;01mreturn\u001b[39;00m \u001b[43mfunc\u001b[49m\u001b[43m(\u001b[49m\u001b[38;5;241;43m*\u001b[39;49m\u001b[43margs\u001b[49m\u001b[43m,\u001b[49m\u001b[43m \u001b[49m\u001b[38;5;241;43m*\u001b[39;49m\u001b[38;5;241;43m*\u001b[39;49m\u001b[43mkwargs\u001b[49m\u001b[43m)\u001b[49m\n\u001b[1;32m    124\u001b[0m \u001b[38;5;28;01mexcept\u001b[39;00m ReauthenticationRequest \u001b[38;5;28;01mas\u001b[39;00m ex:\n\u001b[1;32m    125\u001b[0m     \u001b[38;5;28;01mraise\u001b[39;00m SnowparkClientExceptionMessages\u001b[38;5;241m.\u001b[39mSERVER_SESSION_EXPIRED(\n\u001b[1;32m    126\u001b[0m         ex\u001b[38;5;241m.\u001b[39mcause\n\u001b[1;32m    127\u001b[0m     )\n",
      "File \u001b[0;32m~/anaconda3/envs/snowFlake/lib/python3.10/site-packages/snowflake/snowpark/_internal/server_connection.py:505\u001b[0m, in \u001b[0;36mServerConnection.run_query\u001b[0;34m(self, query, to_pandas, to_iter, is_ddl_on_temp_object, block, data_type, async_job_plan, log_on_exception, case_sensitive, params, num_statements, ignore_results, async_post_actions, **kwargs)\u001b[0m\n\u001b[1;32m    503\u001b[0m         query_id_log \u001b[38;5;241m=\u001b[39m \u001b[38;5;124mf\u001b[39m\u001b[38;5;124m\"\u001b[39m\u001b[38;5;124m [queryID: \u001b[39m\u001b[38;5;132;01m{\u001b[39;00mex\u001b[38;5;241m.\u001b[39msfqid\u001b[38;5;132;01m}\u001b[39;00m\u001b[38;5;124m]\u001b[39m\u001b[38;5;124m\"\u001b[39m \u001b[38;5;28;01mif\u001b[39;00m \u001b[38;5;28mhasattr\u001b[39m(ex, \u001b[38;5;124m\"\u001b[39m\u001b[38;5;124msfqid\u001b[39m\u001b[38;5;124m\"\u001b[39m) \u001b[38;5;28;01melse\u001b[39;00m \u001b[38;5;124m\"\u001b[39m\u001b[38;5;124m\"\u001b[39m\n\u001b[1;32m    504\u001b[0m         logger\u001b[38;5;241m.\u001b[39merror(\u001b[38;5;124mf\u001b[39m\u001b[38;5;124m\"\u001b[39m\u001b[38;5;124mFailed to execute query\u001b[39m\u001b[38;5;132;01m{\u001b[39;00mquery_id_log\u001b[38;5;132;01m}\u001b[39;00m\u001b[38;5;124m \u001b[39m\u001b[38;5;132;01m{\u001b[39;00mquery\u001b[38;5;132;01m}\u001b[39;00m\u001b[38;5;130;01m\\n\u001b[39;00m\u001b[38;5;132;01m{\u001b[39;00mex\u001b[38;5;132;01m}\u001b[39;00m\u001b[38;5;124m\"\u001b[39m)\n\u001b[0;32m--> 505\u001b[0m     \u001b[38;5;28;01mraise\u001b[39;00m ex\n\u001b[1;32m    507\u001b[0m \u001b[38;5;66;03m# fetch_pandas_all/batches() only works for SELECT statements\u001b[39;00m\n\u001b[1;32m    508\u001b[0m \u001b[38;5;66;03m# We call fetchall() if fetch_pandas_all/batches() fails,\u001b[39;00m\n\u001b[1;32m    509\u001b[0m \u001b[38;5;66;03m# because when the query plan has multiple queries, it will\u001b[39;00m\n\u001b[1;32m    510\u001b[0m \u001b[38;5;66;03m# have non-select statements, and it shouldn't fail if the user\u001b[39;00m\n\u001b[1;32m    511\u001b[0m \u001b[38;5;66;03m# calls to_pandas() to execute the query.\u001b[39;00m\n\u001b[1;32m    512\u001b[0m \u001b[38;5;28;01mif\u001b[39;00m block:\n",
      "File \u001b[0;32m~/anaconda3/envs/snowFlake/lib/python3.10/site-packages/snowflake/snowpark/_internal/server_connection.py:490\u001b[0m, in \u001b[0;36mServerConnection.run_query\u001b[0;34m(self, query, to_pandas, to_iter, is_ddl_on_temp_object, block, data_type, async_job_plan, log_on_exception, case_sensitive, params, num_statements, ignore_results, async_post_actions, **kwargs)\u001b[0m\n\u001b[1;32m    488\u001b[0m     kwargs[\u001b[38;5;124m\"\u001b[39m\u001b[38;5;124m_statement_params\u001b[39m\u001b[38;5;124m\"\u001b[39m][\u001b[38;5;124m\"\u001b[39m\u001b[38;5;124mSNOWPARK_SKIP_TXN_COMMIT_IN_DDL\u001b[39m\u001b[38;5;124m\"\u001b[39m] \u001b[38;5;241m=\u001b[39m \u001b[38;5;28;01mTrue\u001b[39;00m\n\u001b[1;32m    489\u001b[0m \u001b[38;5;28;01mif\u001b[39;00m block:\n\u001b[0;32m--> 490\u001b[0m     results_cursor \u001b[38;5;241m=\u001b[39m \u001b[38;5;28;43mself\u001b[39;49m\u001b[38;5;241;43m.\u001b[39;49m\u001b[43mexecute_and_notify_query_listener\u001b[49m\u001b[43m(\u001b[49m\n\u001b[1;32m    491\u001b[0m \u001b[43m        \u001b[49m\u001b[43mquery\u001b[49m\u001b[43m,\u001b[49m\u001b[43m \u001b[49m\u001b[43mparams\u001b[49m\u001b[38;5;241;43m=\u001b[39;49m\u001b[43mparams\u001b[49m\u001b[43m,\u001b[49m\u001b[43m \u001b[49m\u001b[38;5;241;43m*\u001b[39;49m\u001b[38;5;241;43m*\u001b[39;49m\u001b[43mkwargs\u001b[49m\n\u001b[1;32m    492\u001b[0m \u001b[43m    \u001b[49m\u001b[43m)\u001b[49m\n\u001b[1;32m    493\u001b[0m     logger\u001b[38;5;241m.\u001b[39mdebug(\u001b[38;5;124mf\u001b[39m\u001b[38;5;124m\"\u001b[39m\u001b[38;5;124mExecute query [queryID: \u001b[39m\u001b[38;5;132;01m{\u001b[39;00mresults_cursor\u001b[38;5;241m.\u001b[39msfqid\u001b[38;5;132;01m}\u001b[39;00m\u001b[38;5;124m] \u001b[39m\u001b[38;5;132;01m{\u001b[39;00mquery\u001b[38;5;132;01m}\u001b[39;00m\u001b[38;5;124m\"\u001b[39m)\n\u001b[1;32m    494\u001b[0m \u001b[38;5;28;01melse\u001b[39;00m:\n",
      "File \u001b[0;32m~/anaconda3/envs/snowFlake/lib/python3.10/site-packages/snowflake/snowpark/_internal/server_connection.py:434\u001b[0m, in \u001b[0;36mServerConnection.execute_and_notify_query_listener\u001b[0;34m(self, query, **kwargs)\u001b[0m\n\u001b[1;32m    430\u001b[0m \u001b[38;5;28;01mexcept\u001b[39;00m Error \u001b[38;5;28;01mas\u001b[39;00m err:\n\u001b[1;32m    431\u001b[0m     \u001b[38;5;28mself\u001b[39m\u001b[38;5;241m.\u001b[39mnotify_query_listeners(\n\u001b[1;32m    432\u001b[0m         QueryRecord(err\u001b[38;5;241m.\u001b[39msfqid, err\u001b[38;5;241m.\u001b[39mquery), is_error\u001b[38;5;241m=\u001b[39m\u001b[38;5;28;01mTrue\u001b[39;00m\n\u001b[1;32m    433\u001b[0m     )\n\u001b[0;32m--> 434\u001b[0m     \u001b[38;5;28;01mraise\u001b[39;00m err\n\u001b[1;32m    435\u001b[0m \u001b[38;5;28mself\u001b[39m\u001b[38;5;241m.\u001b[39mnotify_query_listeners(\n\u001b[1;32m    436\u001b[0m     QueryRecord(results_cursor\u001b[38;5;241m.\u001b[39msfqid, results_cursor\u001b[38;5;241m.\u001b[39mquery)\n\u001b[1;32m    437\u001b[0m )\n\u001b[1;32m    438\u001b[0m \u001b[38;5;28;01mreturn\u001b[39;00m results_cursor\n",
      "File \u001b[0;32m~/anaconda3/envs/snowFlake/lib/python3.10/site-packages/snowflake/snowpark/_internal/server_connection.py:429\u001b[0m, in \u001b[0;36mServerConnection.execute_and_notify_query_listener\u001b[0;34m(self, query, **kwargs)\u001b[0m\n\u001b[1;32m    425\u001b[0m \u001b[38;5;28;01mdef\u001b[39;00m \u001b[38;5;21mexecute_and_notify_query_listener\u001b[39m(\n\u001b[1;32m    426\u001b[0m     \u001b[38;5;28mself\u001b[39m, query: \u001b[38;5;28mstr\u001b[39m, \u001b[38;5;241m*\u001b[39m\u001b[38;5;241m*\u001b[39mkwargs: Any\n\u001b[1;32m    427\u001b[0m ) \u001b[38;5;241m-\u001b[39m\u001b[38;5;241m>\u001b[39m SnowflakeCursor:\n\u001b[1;32m    428\u001b[0m     \u001b[38;5;28;01mtry\u001b[39;00m:\n\u001b[0;32m--> 429\u001b[0m         results_cursor \u001b[38;5;241m=\u001b[39m \u001b[38;5;28;43mself\u001b[39;49m\u001b[38;5;241;43m.\u001b[39;49m\u001b[43m_cursor\u001b[49m\u001b[38;5;241;43m.\u001b[39;49m\u001b[43mexecute\u001b[49m\u001b[43m(\u001b[49m\u001b[43mquery\u001b[49m\u001b[43m,\u001b[49m\u001b[43m \u001b[49m\u001b[38;5;241;43m*\u001b[39;49m\u001b[38;5;241;43m*\u001b[39;49m\u001b[43mkwargs\u001b[49m\u001b[43m)\u001b[49m\n\u001b[1;32m    430\u001b[0m     \u001b[38;5;28;01mexcept\u001b[39;00m Error \u001b[38;5;28;01mas\u001b[39;00m err:\n\u001b[1;32m    431\u001b[0m         \u001b[38;5;28mself\u001b[39m\u001b[38;5;241m.\u001b[39mnotify_query_listeners(\n\u001b[1;32m    432\u001b[0m             QueryRecord(err\u001b[38;5;241m.\u001b[39msfqid, err\u001b[38;5;241m.\u001b[39mquery), is_error\u001b[38;5;241m=\u001b[39m\u001b[38;5;28;01mTrue\u001b[39;00m\n\u001b[1;32m    433\u001b[0m         )\n",
      "File \u001b[0;32m~/anaconda3/envs/snowFlake/lib/python3.10/site-packages/snowflake/connector/cursor.py:1097\u001b[0m, in \u001b[0;36mSnowflakeCursor.execute\u001b[0;34m(self, command, params, _bind_stage, timeout, _exec_async, _no_retry, _do_reset, _put_callback, _put_azure_callback, _put_callback_output_stream, _get_callback, _get_azure_callback, _get_callback_output_stream, _show_progress_bar, _statement_params, _is_internal, _describe_only, _no_results, _is_put_get, _raise_put_get_error, _force_put_overwrite, _skip_upload_on_content_match, file_stream, num_statements, _dataframe_ast)\u001b[0m\n\u001b[1;32m   1093\u001b[0m     is_integrity_error \u001b[38;5;241m=\u001b[39m (\n\u001b[1;32m   1094\u001b[0m         code \u001b[38;5;241m==\u001b[39m \u001b[38;5;124m\"\u001b[39m\u001b[38;5;124m100072\u001b[39m\u001b[38;5;124m\"\u001b[39m\n\u001b[1;32m   1095\u001b[0m     )  \u001b[38;5;66;03m# NULL result in a non-nullable column\u001b[39;00m\n\u001b[1;32m   1096\u001b[0m     error_class \u001b[38;5;241m=\u001b[39m IntegrityError \u001b[38;5;28;01mif\u001b[39;00m is_integrity_error \u001b[38;5;28;01melse\u001b[39;00m ProgrammingError\n\u001b[0;32m-> 1097\u001b[0m     \u001b[43mError\u001b[49m\u001b[38;5;241;43m.\u001b[39;49m\u001b[43merrorhandler_wrapper\u001b[49m\u001b[43m(\u001b[49m\u001b[38;5;28;43mself\u001b[39;49m\u001b[38;5;241;43m.\u001b[39;49m\u001b[43mconnection\u001b[49m\u001b[43m,\u001b[49m\u001b[43m \u001b[49m\u001b[38;5;28;43mself\u001b[39;49m\u001b[43m,\u001b[49m\u001b[43m \u001b[49m\u001b[43merror_class\u001b[49m\u001b[43m,\u001b[49m\u001b[43m \u001b[49m\u001b[43merrvalue\u001b[49m\u001b[43m)\u001b[49m\n\u001b[1;32m   1098\u001b[0m \u001b[38;5;28;01mreturn\u001b[39;00m \u001b[38;5;28mself\u001b[39m\n",
      "File \u001b[0;32m~/anaconda3/envs/snowFlake/lib/python3.10/site-packages/snowflake/connector/errors.py:284\u001b[0m, in \u001b[0;36mError.errorhandler_wrapper\u001b[0;34m(connection, cursor, error_class, error_value)\u001b[0m\n\u001b[1;32m    261\u001b[0m \u001b[38;5;129m@staticmethod\u001b[39m\n\u001b[1;32m    262\u001b[0m \u001b[38;5;28;01mdef\u001b[39;00m \u001b[38;5;21merrorhandler_wrapper\u001b[39m(\n\u001b[1;32m    263\u001b[0m     connection: SnowflakeConnection \u001b[38;5;241m|\u001b[39m \u001b[38;5;28;01mNone\u001b[39;00m,\n\u001b[0;32m   (...)\u001b[0m\n\u001b[1;32m    266\u001b[0m     error_value: \u001b[38;5;28mdict\u001b[39m[\u001b[38;5;28mstr\u001b[39m, Any],\n\u001b[1;32m    267\u001b[0m ) \u001b[38;5;241m-\u001b[39m\u001b[38;5;241m>\u001b[39m \u001b[38;5;28;01mNone\u001b[39;00m:\n\u001b[1;32m    268\u001b[0m \u001b[38;5;250m    \u001b[39m\u001b[38;5;124;03m\"\"\"Error handler wrapper that calls the errorhandler method.\u001b[39;00m\n\u001b[1;32m    269\u001b[0m \n\u001b[1;32m    270\u001b[0m \u001b[38;5;124;03m    Args:\u001b[39;00m\n\u001b[0;32m   (...)\u001b[0m\n\u001b[1;32m    281\u001b[0m \u001b[38;5;124;03m        exception to the first handler in that order.\u001b[39;00m\n\u001b[1;32m    282\u001b[0m \u001b[38;5;124;03m    \"\"\"\u001b[39;00m\n\u001b[0;32m--> 284\u001b[0m     handed_over \u001b[38;5;241m=\u001b[39m \u001b[43mError\u001b[49m\u001b[38;5;241;43m.\u001b[39;49m\u001b[43mhand_to_other_handler\u001b[49m\u001b[43m(\u001b[49m\n\u001b[1;32m    285\u001b[0m \u001b[43m        \u001b[49m\u001b[43mconnection\u001b[49m\u001b[43m,\u001b[49m\n\u001b[1;32m    286\u001b[0m \u001b[43m        \u001b[49m\u001b[43mcursor\u001b[49m\u001b[43m,\u001b[49m\n\u001b[1;32m    287\u001b[0m \u001b[43m        \u001b[49m\u001b[43merror_class\u001b[49m\u001b[43m,\u001b[49m\n\u001b[1;32m    288\u001b[0m \u001b[43m        \u001b[49m\u001b[43merror_value\u001b[49m\u001b[43m,\u001b[49m\n\u001b[1;32m    289\u001b[0m \u001b[43m    \u001b[49m\u001b[43m)\u001b[49m\n\u001b[1;32m    290\u001b[0m     \u001b[38;5;28;01mif\u001b[39;00m \u001b[38;5;129;01mnot\u001b[39;00m handed_over:\n\u001b[1;32m    291\u001b[0m         \u001b[38;5;28;01mraise\u001b[39;00m Error\u001b[38;5;241m.\u001b[39merrorhandler_make_exception(\n\u001b[1;32m    292\u001b[0m             error_class,\n\u001b[1;32m    293\u001b[0m             error_value,\n\u001b[1;32m    294\u001b[0m         )\n",
      "File \u001b[0;32m~/anaconda3/envs/snowFlake/lib/python3.10/site-packages/snowflake/connector/errors.py:339\u001b[0m, in \u001b[0;36mError.hand_to_other_handler\u001b[0;34m(connection, cursor, error_class, error_value)\u001b[0m\n\u001b[1;32m    337\u001b[0m \u001b[38;5;28;01mif\u001b[39;00m cursor \u001b[38;5;129;01mis\u001b[39;00m \u001b[38;5;129;01mnot\u001b[39;00m \u001b[38;5;28;01mNone\u001b[39;00m:\n\u001b[1;32m    338\u001b[0m     cursor\u001b[38;5;241m.\u001b[39mmessages\u001b[38;5;241m.\u001b[39mappend((error_class, error_value))\n\u001b[0;32m--> 339\u001b[0m     \u001b[43mcursor\u001b[49m\u001b[38;5;241;43m.\u001b[39;49m\u001b[43merrorhandler\u001b[49m\u001b[43m(\u001b[49m\u001b[43mconnection\u001b[49m\u001b[43m,\u001b[49m\u001b[43m \u001b[49m\u001b[43mcursor\u001b[49m\u001b[43m,\u001b[49m\u001b[43m \u001b[49m\u001b[43merror_class\u001b[49m\u001b[43m,\u001b[49m\u001b[43m \u001b[49m\u001b[43merror_value\u001b[49m\u001b[43m)\u001b[49m\n\u001b[1;32m    340\u001b[0m     \u001b[38;5;28;01mreturn\u001b[39;00m \u001b[38;5;28;01mTrue\u001b[39;00m\n\u001b[1;32m    341\u001b[0m \u001b[38;5;28;01melif\u001b[39;00m connection \u001b[38;5;129;01mis\u001b[39;00m \u001b[38;5;129;01mnot\u001b[39;00m \u001b[38;5;28;01mNone\u001b[39;00m:\n",
      "File \u001b[0;32m~/anaconda3/envs/snowFlake/lib/python3.10/site-packages/snowflake/connector/errors.py:215\u001b[0m, in \u001b[0;36mError.default_errorhandler\u001b[0;34m(connection, cursor, error_class, error_value)\u001b[0m\n\u001b[1;32m    213\u001b[0m errno \u001b[38;5;241m=\u001b[39m error_value\u001b[38;5;241m.\u001b[39mget(\u001b[38;5;124m\"\u001b[39m\u001b[38;5;124merrno\u001b[39m\u001b[38;5;124m\"\u001b[39m)\n\u001b[1;32m    214\u001b[0m done_format_msg \u001b[38;5;241m=\u001b[39m error_value\u001b[38;5;241m.\u001b[39mget(\u001b[38;5;124m\"\u001b[39m\u001b[38;5;124mdone_format_msg\u001b[39m\u001b[38;5;124m\"\u001b[39m)\n\u001b[0;32m--> 215\u001b[0m \u001b[38;5;28;01mraise\u001b[39;00m error_class(\n\u001b[1;32m    216\u001b[0m     msg\u001b[38;5;241m=\u001b[39merror_value\u001b[38;5;241m.\u001b[39mget(\u001b[38;5;124m\"\u001b[39m\u001b[38;5;124mmsg\u001b[39m\u001b[38;5;124m\"\u001b[39m),\n\u001b[1;32m    217\u001b[0m     errno\u001b[38;5;241m=\u001b[39m\u001b[38;5;28;01mNone\u001b[39;00m \u001b[38;5;28;01mif\u001b[39;00m errno \u001b[38;5;129;01mis\u001b[39;00m \u001b[38;5;28;01mNone\u001b[39;00m \u001b[38;5;28;01melse\u001b[39;00m \u001b[38;5;28mint\u001b[39m(errno),\n\u001b[1;32m    218\u001b[0m     sqlstate\u001b[38;5;241m=\u001b[39merror_value\u001b[38;5;241m.\u001b[39mget(\u001b[38;5;124m\"\u001b[39m\u001b[38;5;124msqlstate\u001b[39m\u001b[38;5;124m\"\u001b[39m),\n\u001b[1;32m    219\u001b[0m     sfqid\u001b[38;5;241m=\u001b[39merror_value\u001b[38;5;241m.\u001b[39mget(\u001b[38;5;124m\"\u001b[39m\u001b[38;5;124msfqid\u001b[39m\u001b[38;5;124m\"\u001b[39m),\n\u001b[1;32m    220\u001b[0m     query\u001b[38;5;241m=\u001b[39merror_value\u001b[38;5;241m.\u001b[39mget(\u001b[38;5;124m\"\u001b[39m\u001b[38;5;124mquery\u001b[39m\u001b[38;5;124m\"\u001b[39m),\n\u001b[1;32m    221\u001b[0m     done_format_msg\u001b[38;5;241m=\u001b[39m(\n\u001b[1;32m    222\u001b[0m         \u001b[38;5;28;01mNone\u001b[39;00m \u001b[38;5;28;01mif\u001b[39;00m done_format_msg \u001b[38;5;129;01mis\u001b[39;00m \u001b[38;5;28;01mNone\u001b[39;00m \u001b[38;5;28;01melse\u001b[39;00m \u001b[38;5;28mbool\u001b[39m(done_format_msg)\n\u001b[1;32m    223\u001b[0m     ),\n\u001b[1;32m    224\u001b[0m     connection\u001b[38;5;241m=\u001b[39mconnection,\n\u001b[1;32m    225\u001b[0m     cursor\u001b[38;5;241m=\u001b[39mcursor,\n\u001b[1;32m    226\u001b[0m )\n",
      "\u001b[0;31mProgrammingError\u001b[0m: 002043 (02000): SQL compilation error:\nObject does not exist, or operation cannot be performed."
     ]
    }
   ],
   "source": [
    "session.use_role(\"accountadmin\")\n",
    "session.use_database(\"graph_rag\")\n",
    "session.use_schema(\"graph_rag\")\n",
    "session.use_warehouse(\"graph_rag\")"
   ]
  },
  {
   "cell_type": "markdown",
   "id": "4e47b986-b038-43b4-a247-7057695a11f1",
   "metadata": {},
   "source": [
    "## Creating a graph with the RelationalAI Native App"
   ]
  },
  {
   "cell_type": "markdown",
   "id": "92a334a1-c4b4-40ae-b4ac-7ddc3c7d4d4a",
   "metadata": {},
   "source": [
    "### Requirements\n",
    "\n",
    "- The [RelationalAI Native App](https://app.snowflake.com/marketplace/listing/GZTYZOOIX8H/relationalai-relationalai?search=relationalai&originTab=provider&providerName=RelationalAI&profileGlobalName=GZTYZOOIX7W) **must have been installed** in the Snowflake account being used.\n",
    "- The [RelationalAI CLI](https://relational.ai/docs/reference/cli/) **must have been installed**.\n",
    "- A `raiconfig.toml` must be present in the project root. To create a `raiconfig.toml` execute `rai init` in the project root and provide the required information. More info on the [RelationalAI CLI reference](https://relational.ai/docs/reference/cli/) page."
   ]
  },
  {
   "cell_type": "markdown",
   "id": "f02af0eb-7d92-4198-a565-dfda178fb601",
   "metadata": {},
   "source": [
    "Creating the RelationalAI resources required can either be done either with the use of the CLI or by the functions provided in this notebook, for convenience."
   ]
  },
  {
   "cell_type": "markdown",
   "id": "3d1a36fa-349e-4748-ad20-8a4eaca87fa2",
   "metadata": {},
   "source": [
    "### Manual resource provisioning\n",
    "\n",
    "- Provision a RAI engine by executing `rai engines:create` in the project root and providing the required information.\n",
    "  \n",
    "- Setup the Snowflake - RelationalAI Data Streams:\n",
    "    - `rai imports:stream --source graph_rag.graph_rag.nodes --model graph_rag`\n",
    "    - `rai imports:stream --source graph_rag.graph_rag.edges --model graph_rag`\n",
    "\n",
    "Having submitted the streams, we should wait for the data to synchronize by checking that the status is `LOADED` for both. Checking the lifecycle stage of the streams creation is performed by issuing the following CLI command:\n",
    "\n",
    "- `rai imports:list --model graph_rag`"
   ]
  },
  {
   "cell_type": "markdown",
   "id": "7b1bf474-0f80-4522-bca7-6c5a9a985f20",
   "metadata": {},
   "source": [
    "### Automatic resource provisioning"
   ]
  },
  {
   "cell_type": "markdown",
   "id": "78cd1f76-7d03-4f68-bc76-8a9870ff3f20",
   "metadata": {},
   "source": [
    "#### Provisioning a RelationalAI engine\n",
    "\n",
    "The following convenience function wraps the `rai engines:create` CLI command.\n",
    "\n",
    "Note: the `engine_size` and `engine_pool` values can be retrieved with by following the manual `rai engines:create` and taking note of the `Engine size` and `Compute pool` prompt options."
   ]
  },
  {
   "cell_type": "code",
   "execution_count": null,
   "id": "07a214ff-e18c-4a42-9f0c-fbb399f6ea78",
   "metadata": {},
   "outputs": [],
   "source": [
    "%%time\n",
    "\n",
    "# Note: this process takes a few minutes to complete if a new engine must be provisioned.\n",
    "output = create_engine(\n",
    "    config={\n",
    "        \"engine\": \"graph_rag\", \n",
    "        \"engine_size\": \"<your_engine_size>\", \n",
    "        \"engine_pool\": \"<your_engine_pool>\"\n",
    "    }\n",
    ")"
   ]
  },
  {
   "cell_type": "markdown",
   "id": "68637fa2-c12d-4ec5-b038-24ab77fb39ab",
   "metadata": {},
   "source": [
    "#### Provisioning Data Streams\n",
    "\n",
    "The following convenience function wraps `rai imports:stream --source graph_rag.graph_rag.nodes --model graph_rag` and `rai imports:stream --source graph_rag.graph_rag.edges --model graph_rag` CLI commands to create the Data Streams. Also, it blocks until both Data Streams are in `LOADED` status. `2` streams must be in that status for us to proceed."
   ]
  },
  {
   "cell_type": "code",
   "execution_count": null,
   "id": "665df887-7fad-4fb7-bd7b-45d5ec367999",
   "metadata": {},
   "outputs": [],
   "source": [
    "%%time\n",
    "\n",
    "output = setup_cdc_and_wait(\n",
    "    config={\n",
    "        \"database\": \"graph_rag\", \n",
    "        \"schema\": \"graph_rag\", \n",
    "        \"model_name\": \"graph_rag\"\n",
    "    }\n",
    ")"
   ]
  },
  {
   "cell_type": "markdown",
   "id": "a77b7f37-e275-4dad-b50e-b27945a55cc2",
   "metadata": {},
   "source": [
    "### Creating a RelationalAI model\n",
    "\n",
    "A RelationalAI model is the abstraction that defines the data structures for representing the graph. The model is tightly knitted to the data synchronized through the Data Streams already provisioned.\n",
    "\n",
    "To proceed, we shall first define a model named `graph_rag`. Subsequently, we shall define `Entity` and `Relation` model types. Observe how the source of data for each type are tables `nodes` and `edges`, respectively."
   ]
  },
  {
   "cell_type": "code",
   "execution_count": null,
   "id": "822c920b-7dde-4343-84ac-992b63a20671",
   "metadata": {},
   "outputs": [],
   "source": [
    "%%time\n",
    "\n",
    "# Defining a RelationalAI model named `graph_rag`.\n",
    "rai_model = rai.Model(\"graph_rag\", dry_run=False)\n",
    "snowflake_model = Snowflake(rai_model)\n",
    "\n",
    "# Defining an `Entity` type. A `Entity` is a node in the graph.\n",
    "Entity = rai_model.Type(\"Entity\", source=\"graph_rag.graph_rag.nodes\")\n",
    "\n",
    "# Defining a `Relation` type. A `Relation` is an edge in the graph.\n",
    "# Note how we attach `src` and `dst` properties in the `Relation`, \n",
    "# indicatiing the source and destination entities, respectivelly.\n",
    "Relation = rai_model.Type(\"Relation\", source=\"graph_rag.graph_rag.edges\")\n",
    "Relation.define(\n",
    "    src=(Entity, \"src_node_id\", \"id\"), \n",
    "    dst=(Entity, \"dst_node_id\", \"id\")\n",
    ")"
   ]
  },
  {
   "cell_type": "markdown",
   "id": "9e86de26-e3fb-4708-8a38-091ea1f08db6",
   "metadata": {},
   "source": [
    "#### (Optional) Exploring the RelationalAI model data"
   ]
  },
  {
   "cell_type": "markdown",
   "id": "6325f504-699c-4308-8586-34d811350eb2",
   "metadata": {},
   "source": [
    "Having created our model, let's take a look at how we can inspect the properties of the types created. Also, we shall fetch some data to inspect how they are being represented in our model:"
   ]
  },
  {
   "cell_type": "code",
   "execution_count": null,
   "id": "6597ac8b-cfd3-44f7-b7c4-19b95584b5cb",
   "metadata": {},
   "outputs": [],
   "source": [
    "%%time\n",
    "\n",
    "# Get the list of properties of each defined type.\n",
    "print(\n",
    "    f\"\"\"\n",
    "    Entity.known_properties(): {Entity.known_properties()}\n",
    "    Relation.known_properties(): {Relation.known_properties()}\n",
    "    \"\"\"\n",
    ")"
   ]
  },
  {
   "cell_type": "markdown",
   "id": "8162ad69-7e29-4f82-bb05-fe7a12e126d9",
   "metadata": {},
   "source": [
    "Querying our model to retrieve all `Entity` instances:"
   ]
  },
  {
   "cell_type": "code",
   "execution_count": null,
   "id": "14da7261-3d58-4b34-8e11-efd367295a94",
   "metadata": {},
   "outputs": [],
   "source": [
    "%%time\n",
    "\n",
    "with rai_model.query() as select:\n",
    "    entity = Entity()\n",
    "    response = select.distinct(entity, entity.id, entity.type)\n",
    "model_entities = response.results"
   ]
  },
  {
   "cell_type": "code",
   "execution_count": null,
   "id": "679ef773-e974-4bae-8a0f-bb209947e739",
   "metadata": {},
   "outputs": [],
   "source": [
    "model_entities.head(3)"
   ]
  },
  {
   "cell_type": "markdown",
   "id": "dace2db5-1724-4255-bdab-687ba84d40f6",
   "metadata": {},
   "source": [
    "We can also count how many `Entity` instances we have in our model:"
   ]
  },
  {
   "cell_type": "code",
   "execution_count": null,
   "id": "2d6ee245-b689-41e3-a273-b1b8b23d8948",
   "metadata": {},
   "outputs": [],
   "source": [
    "%%time\n",
    "\n",
    "with rai_model.query() as select:\n",
    "    entity = Entity()\n",
    "    response = select(aggregates.count(entity))\n",
    "print(\"Entity count:\", response.results)"
   ]
  },
  {
   "cell_type": "markdown",
   "id": "581a36e6-7294-425a-aa5c-5324a2c3664f",
   "metadata": {},
   "source": [
    "Repeating the same for `Relations`:"
   ]
  },
  {
   "cell_type": "code",
   "execution_count": null,
   "id": "9b775dae-9a5a-40cc-86d2-c9c3bb96e9b2",
   "metadata": {},
   "outputs": [],
   "source": [
    "%%time\n",
    "\n",
    "with rai_model.query() as select:\n",
    "    relation = Relation()\n",
    "    response = select.distinct(relation, relation.src_node_id, relation.dst_node_id, relation.type)\n",
    "model_relations = response.results"
   ]
  },
  {
   "cell_type": "code",
   "execution_count": null,
   "id": "11f9e1ce-263a-460c-a1bc-40e4b0854e12",
   "metadata": {},
   "outputs": [],
   "source": [
    "model_relations.head(3)"
   ]
  },
  {
   "cell_type": "code",
   "execution_count": null,
   "id": "69d14917-733c-48b5-97bc-876f77b52ac3",
   "metadata": {},
   "outputs": [],
   "source": [
    "%%time\n",
    "\n",
    "with rai_model.query() as select:\n",
    "    relation = Relation()\n",
    "    response = select(aggregates.count(relation))\n",
    "print(\"Relation count:\", response.results)"
   ]
  },
  {
   "cell_type": "markdown",
   "id": "f0826045-0037-4da0-9d2b-e4be9ac8b0f2",
   "metadata": {},
   "source": [
    "### Creating the graph, computing community identifiers and visualizing the graph\n",
    "\n",
    "We shall now use the RelationalAI model we have defined previously and get a graph out of it.\n",
    "\n",
    "First, we shall define a `Graph` data structure out of our RelationalAI model.\n",
    "\n",
    "Subsequentyl, we shall execute the [Louvain](https://relational.ai/docs/reference/python/std/graphs/Compute/louvain/) community detection algorithm on the graph to identify communities.\n",
    "\n",
    "Finally, we shall visualize the graph."
   ]
  },
  {
   "cell_type": "code",
   "execution_count": null,
   "id": "810dde9a-cd90-4e34-a44a-e0c7a33f412a",
   "metadata": {},
   "outputs": [],
   "source": [
    "community_color_map = get_random_color_map(communities_length=200)"
   ]
  },
  {
   "cell_type": "code",
   "execution_count": null,
   "id": "43d6c692-236c-4047-b626-d0de69faaf91",
   "metadata": {},
   "outputs": [],
   "source": [
    "%%time\n",
    "\n",
    "# Creating a graph representation of our model.\n",
    "graph = Graph(model=rai_model, undirected=True)\n",
    "\n",
    "# Applying the Louvain community detection on the model.\n",
    "with rai_model.rule():\n",
    "    entity = Entity()\n",
    "    community_id = graph.compute.louvain(node=entity, max_levels=5, max_sweeps=10, level_tolerance=1e-2, sweep_tolerance=1e-4)\n",
    "    entity.set(community_id=community_id)\n",
    "\n",
    "with rai_model.rule():\n",
    "    relation = Relation()\n",
    "    graph.Node.extend(Entity, id=Entity.id, corpus_id=str(Entity.corpus_id), type=Entity.type, community_id=Entity.community_id)\n",
    "    graph.Edge.add(from_=relation.src, to=relation.dst, corpus_id=str(relation.corpus_id), type=relation.type) # label=concat(relation.src.id, relation.dst.id)"
   ]
  },
  {
   "cell_type": "markdown",
   "id": "d55d81d7-b2d6-4a51-910f-10c867e130c3",
   "metadata": {},
   "source": [
    "Note that computations are defined and are applied lazily. \n",
    "\n",
    "For example, let's see how many communities we were able to identify:"
   ]
  },
  {
   "cell_type": "code",
   "execution_count": null,
   "id": "f24dc7ac-20e8-4ad0-9086-9f452d5a07d4",
   "metadata": {},
   "outputs": [],
   "source": [
    "%%time\n",
    "\n",
    "with rai_model.query() as select:\n",
    "    entity = Entity()\n",
    "    response = select(aggregates.count(entity.community_id))\n",
    "print(\"Communities count:\", response.results)"
   ]
  },
  {
   "cell_type": "markdown",
   "id": "8900637b-e198-483c-87c5-d56d941cedb9",
   "metadata": {},
   "source": [
    "Let's also visualize the graph, making sure that each community has a unique color:"
   ]
  },
  {
   "cell_type": "code",
   "execution_count": null,
   "id": "ccaef1a1-e732-4647-83e9-d8e07a5c155f",
   "metadata": {},
   "outputs": [],
   "source": [
    "vis = graph.visualize(\n",
    "    three=False, \n",
    "    graph_height=750, \n",
    "    show_node_label=True, \n",
    "    show_edge_label=True, \n",
    "    layout_algorithm_active = True, \n",
    "    layout_algorithm = \"hierarchicalRepulsion\", \n",
    "    avoid_overlap = 1.0,\n",
    "    style={\n",
    "        \"node\": {\n",
    "            \"label\": lambda n: f\"{n.get('id')} ({n.get('type')})\", \n",
    "            \"color\": lambda n: community_color_map.get(n[\"community_id\"], \"black\"), \n",
    "            \"size\": 30,\n",
    "            \"border_color\": \"white\",\n",
    "            \"border_size\": 1,\n",
    "            \"hover\": lambda n: f\"{n.get('id')} (type: {n.get('type')}, community: {n.get('community_id')})\"\n",
    "        }, \n",
    "        \"edge\": {\n",
    "            \"label\": lambda e: e.get(\"type\"), \n",
    "            \"color\": \"grey\", \n",
    "            \"hover\": lambda e: e.get(\"type\")\n",
    "        }\n",
    "    }\n",
    ")\n",
    "\n",
    "vis.display(inline=True)"
   ]
  },
  {
   "cell_type": "markdown",
   "id": "58e22fd6-8c33-4ccc-b20e-953522b36617",
   "metadata": {},
   "source": [
    "## Community-based summarization"
   ]
  },
  {
   "cell_type": "markdown",
   "id": "d56d3f92-fcd6-4210-adf7-8d51e54528a7",
   "metadata": {},
   "source": [
    "Having identified graph communities, we shall now produce summaries out of the text of all corpus items in a community."
   ]
  },
  {
   "cell_type": "code",
   "execution_count": null,
   "id": "ef70b789-f2b2-4770-8323-72b8aef9ce63",
   "metadata": {},
   "outputs": [],
   "source": [
    "%%time\n",
    "\n",
    "with rai_model.query() as select:\n",
    "    entity = Entity()\n",
    "    response = select(alias(entity.id, \"id\"), alias(entity.community_id, \"community_id\"), alias(entity.corpus_id, \"corpus_id\"))"
   ]
  },
  {
   "cell_type": "code",
   "execution_count": null,
   "id": "4fd8c473-bee4-48f8-bbf6-2fb8993c4fca",
   "metadata": {},
   "outputs": [],
   "source": [
    "results_df = response.results\n",
    "results_df.sort_values(by=[\"community_id\", \"corpus_id\"]).head(3)"
   ]
  },
  {
   "cell_type": "code",
   "execution_count": null,
   "id": "0bdb6bee-ef30-48c9-b45b-0e613c8b51b5",
   "metadata": {},
   "outputs": [],
   "source": [
    "# Getting a (community, corpus-id) multi-index.\n",
    "communities_count_df = results_df.groupby(by=[\"community_id\", \"corpus_id\"]).count().rename(columns={\"id\": \"entities_count\"}).sort_index()\n",
    "\n",
    "# Convert the multi index to a dict.\n",
    "index = communities_count_df.index.to_flat_index()\n",
    "d = {}\n",
    "for x, y in index:\n",
    "    d.setdefault(x, []).append(y)"
   ]
  },
  {
   "cell_type": "markdown",
   "id": "2f9d1d92-b262-436e-a13d-0e95fe422575",
   "metadata": {},
   "source": [
    "For each community, we are producing a summary of all corpus items of this community, utilizing a Snowflake LLM:"
   ]
  },
  {
   "cell_type": "code",
   "execution_count": null,
   "id": "e0498664-4703-4b58-bd2f-c911890fa15d",
   "metadata": {},
   "outputs": [],
   "source": [
    "%%time\n",
    "\n",
    "execute_statement(\n",
    "    session=session, \n",
    "    statement=f\"TRUNCATE TABLE community_summary\"\n",
    ")\n",
    "\n",
    "# Summarize all corpus items of a community.\n",
    "for k, v in d.items():\n",
    "    corpus_ids = \", \".join([str(i) for i in v])\n",
    "    logger.info(f\"Producing summarized versions of IDs ({corpus_ids}) for community {k}\")\n",
    "    try:\n",
    "        execute_statement(\n",
    "            session=session, \n",
    "            statement=\"\"\"\n",
    "                INSERT INTO community_summary(COMMUNITY_ID, CONTENT)\n",
    "                WITH c AS (\n",
    "                    SELECT \n",
    "                        LISTAGG(content, '\\n\\n') WITHIN GROUP(ORDER BY id) AS content \n",
    "                    FROM \n",
    "                        CORPUS\n",
    "                    WHERE \n",
    "                        id IN ({CORPUS_IDS})\n",
    "                )\n",
    "                SELECT \n",
    "                    {COMMUNITY_ID} AS community_id\n",
    "                    , PARSE_JSON(LLM_EXTRACT_JSON(r.response)):answer AS response\n",
    "                FROM \n",
    "                    c\n",
    "                JOIN TABLE(LLM_SUMMARIZE('llama3-70b', c.content)) AS r;\n",
    "            \"\"\", \n",
    "            parameters={\n",
    "                \"COMMUNITY_ID\": str(k), \n",
    "                \"CORPUS_IDS\": corpus_ids\n",
    "            }\n",
    "        )\n",
    "    except Exception as error:\n",
    "        logger.error(f\"Error producing summarized versions of IDs ({corpus_ids}) for community {k}\")"
   ]
  },
  {
   "cell_type": "markdown",
   "id": "0ba1e648-5a79-47c1-bfa0-61b521cebb1d",
   "metadata": {},
   "source": [
    "## Question answering"
   ]
  },
  {
   "cell_type": "code",
   "execution_count": null,
   "id": "7c4285dd-15a9-4c55-b397-e59457def762",
   "metadata": {},
   "outputs": [],
   "source": [
    "question = \"Describe in detail the connection between Samuel Altman and Elon Musk, if one exists.\""
   ]
  },
  {
   "cell_type": "markdown",
   "id": "c38f77d8-1a4a-4ab7-abb9-17f0caab4a80",
   "metadata": {},
   "source": [
    "### Querying with community summaries as context\n",
    "\n",
    "Using a window of concatenated community summaries and asking the LLM if the question can be asked from evidence in the context window.\n",
    "\n",
    "LLM calls: `#community summaries / window`"
   ]
  },
  {
   "cell_type": "code",
   "execution_count": null,
   "id": "14608b47-eb49-4a0f-817e-a16f22df977e",
   "metadata": {},
   "outputs": [],
   "source": [
    "%%time\n",
    "\n",
    "# The previous-before-last parameter of the procedure call is the summarization window i.e. how many per-community summaries to include as context in the answer.\n",
    "# A smaller value safeguards that we will not exceed the LLM token limit, whereas a larger one provides richer context to the LLM.\n",
    "execute_statement(\n",
    "    session=session, \n",
    "    statement=\"\"\"\n",
    "        CALL LLM_ANSWER_SUMMARIES('llama3-70b', 30, '{QUESTION}');\n",
    "    \"\"\", \n",
    "    parameters={\n",
    "        \"QUESTION\": question\n",
    "    }\n",
    ")\n",
    "\n",
    "# Gather results.\n",
    "answer = execute_statement(\n",
    "    session=session, \n",
    "    statement=\"\"\"\n",
    "        SELECT \n",
    "            * \n",
    "        FROM \n",
    "            TABLE(result_scan(last_query_id()));\n",
    "    \"\"\"\n",
    ")[0][0]\n",
    "\n",
    "print(f\"\"\"\n",
    "    Q: {question}\n",
    "    A: {answer}\n",
    "\"\"\")"
   ]
  },
  {
   "cell_type": "markdown",
   "id": "1a8ed855-1ef3-4fb0-b9c2-bcd79029f19e",
   "metadata": {},
   "source": [
    "#### Visualizing the graph again\n",
    "\n",
    "This time, we are highlighting the entities mentioned in the answer to validate against the graph."
   ]
  },
  {
   "cell_type": "code",
   "execution_count": null,
   "id": "721afca9-b839-45a8-8e45-f8b204f2c37b",
   "metadata": {},
   "outputs": [],
   "source": [
    "entities_of_interest = [\"Samuel Harris Altman\", \"Elon Musk\", \"OpenAI\"]\n",
    "\n",
    "vis = graph.visualize(\n",
    "    three=False, \n",
    "    graph_height=1000, \n",
    "    show_node_label=True, \n",
    "    show_edge_label=True, \n",
    "    layout_algorithm_active = True, \n",
    "    layout_algorithm = \"hierarchicalRepulsion\", \n",
    "    avoid_overlap = 1.0,\n",
    "    style={\n",
    "        \"node\": {\n",
    "            \"label\": lambda n: f\"{n.get('id')} ({n.get('type')})\", \n",
    "            \"color\": lambda n: community_color_map.get(n[\"community_id\"], \"black\"), \n",
    "            \"size\": lambda n: 60 if n.get('id') in entities_of_interest else 30,\n",
    "            \"border_color\":  lambda n: \"black\" if n.get('id') in entities_of_interest else \"white\",\n",
    "            \"border_size\": lambda n: 3 if n.get('id') in entities_of_interest else 1,\n",
    "            \"hover\": lambda n: f\"{n.get('id')} (type: {n.get('type')}, community: {n.get('community_id')})\"\n",
    "        }, \n",
    "        \"edge\": {\n",
    "            \"label\": lambda e: e.get(\"type\"), \n",
    "            \"color\": \"grey\", \n",
    "            \"hover\": lambda e: e.get(\"type\")\n",
    "        }\n",
    "    }\n",
    ")\n",
    "\n",
    "vis.display(inline=True)"
   ]
  },
  {
   "cell_type": "markdown",
   "id": "b8ab0b7e-e389-45e0-9266-92dcbc737573",
   "metadata": {},
   "source": [
    "#### Verify that the entities are connected in the graph\n",
    "\n",
    "Testing the reachability between entities `Elon Musk` and `Samuel Harris Altman` by querying the model."
   ]
  },
  {
   "cell_type": "code",
   "execution_count": null,
   "id": "b09d3c6c-0d31-4b65-9dff-5584c1d88594",
   "metadata": {},
   "outputs": [],
   "source": [
    "# Can Elon reach Sam?\n",
    "with rai_model.query() as select:\n",
    "    entity_1 = Entity(id=\"Elon Musk\")\n",
    "    entity_2 = Entity(id=\"Samuel Harris Altman\")\n",
    "    with rai_model.match() as reachable:\n",
    "        with rai_model.case():\n",
    "            graph.compute.is_reachable(entity_1, entity_2)\n",
    "            reachable.add(True)\n",
    "        with rai_model.case():\n",
    "            reachable.add(False)\n",
    "    response = select(alias(reachable, \"connected\"))\n",
    "print(f\"Are Elon and Sam connected? {response.results['connected'][0]}\")"
   ]
  },
  {
   "cell_type": "markdown",
   "id": "eecbdc00-74aa-4372-a038-5a07332d004e",
   "metadata": {},
   "source": [
    "---"
   ]
  }
 ],
 "metadata": {
  "kernelspec": {
   "display_name": "snowFlake",
   "language": "python",
   "name": "python3"
  },
  "language_info": {
   "codemirror_mode": {
    "name": "ipython",
    "version": 3
   },
   "file_extension": ".py",
   "mimetype": "text/x-python",
   "name": "python",
   "nbconvert_exporter": "python",
   "pygments_lexer": "ipython3",
   "version": "3.10.0"
  }
 },
 "nbformat": 4,
 "nbformat_minor": 5
}
